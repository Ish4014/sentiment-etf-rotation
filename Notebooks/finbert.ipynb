{
 "cells": [
  {
   "cell_type": "code",
   "execution_count": 9,
   "id": "c340b257-ac84-4f96-9f6c-38a52e2c3967",
   "metadata": {},
   "outputs": [],
   "source": [
    "import pandas as pd\n",
    "import re\n",
    "from vaderSentiment.vaderSentiment import SentimentIntensityAnalyzer\n",
    "from transformers import pipeline, AutoTokenizer, AutoModelForSequenceClassification\n",
    "\n",
    "global_sector_mapping = {\n",
    "    \"Technology\": [\"Apple\", \"Microsoft\", \"Samsung\", \"TSMC\", \"Sony\", \"SAP\", \"Tencent\", \"Alibaba\", \"Infosys\"],\n",
    "    \"Consumer Discretionary\": [\"Amazon\", \"Tesla\", \"Toyota\", \"Nike\", \"JD.com\", \"Starbucks\", \"Booking.com\"],\n",
    "    \"Healthcare\": [\"Pfizer\", \"Roche\", \"Sanofi\", \"AstraZeneca\", \"Novartis\", \"Johnson & Johnson\"],\n",
    "    \"Financials\": [\"JPMorgan\", \"HSBC\", \"Goldman Sachs\", \"ICICI Bank\", \"UBS\", \"BNP Paribas\", \"DBS\"],\n",
    "    \"Energy\": [\"ExxonMobil\", \"Shell\", \"BP\", \"TotalEnergies\", \"Saudi Aramco\", \"PetroChina\", \"Reliance\"],\n",
    "    \"Industrials\": [\"Siemens\", \"GE\", \"Hitachi\", \"Caterpillar\", \"Schneider Electric\", \"Mitsubishi\"],\n",
    "    \"Utilities\": [\"Enel\", \"Iberdrola\", \"NextEra\", \"EDF\", \"NTPC\"],\n",
    "    \"Real Estate\": [\"Prologis\", \"Mitsui Fudosan\", \"Dexus\", \"Vonovia\"],\n",
    "    \"Consumer Staples\": [\"Nestlé\", \"P&G\", \"Unilever\", \"Walmart\", \"Coca-Cola\", \"PepsiCo\", \"Colgate-Palmolive\"],\n",
    "    \"Communication Services\": [\"Alphabet\", \"Meta\", \"Netflix\", \"Verizon\", \"China Mobile\", \"SoftBank\", \"SK Telecom\"],\n",
    "    \"Materials\": [\"BHP\", \"Rio Tinto\", \"Vale\", \"ArcelorMittal\", \"Sibanye-Stillwater\", \"BASF\"],\n",
    "    \"Others / Small Cap\": [\"Zomato\", \"Palantir\", \"Robinhood\", \"Unknown\", \"Smaller regional firms\"]\n",
    "}\n",
    "\n",
    "def map_to_sector(text):\n",
    "    text = text.lower()\n",
    "    for sector, companies in global_sector_mapping.items():\n",
    "        for company in companies:\n",
    "            if re.search(rf\"\\\\b{re.escape(company.lower())}\\\\b\", text):\n",
    "                return sector\n",
    "    return None\n"
   ]
  },
  {
   "cell_type": "code",
   "execution_count": 10,
   "id": "776246c1-3aae-40ed-9109-089269a6355c",
   "metadata": {},
   "outputs": [],
   "source": [
    "import os\n",
    "import requests\n",
    "from dotenv import load_dotenv\n",
    "\n",
    "load_dotenv()\n",
    "finnhub_api_key = os.getenv(\"FINNHUB_API_KEY\")  # Add your key to a .env file\n"
   ]
  },
  {
   "cell_type": "code",
   "execution_count": 11,
   "id": "aaccccf9-53b5-4172-b5b8-aaa14c1ca232",
   "metadata": {},
   "outputs": [],
   "source": [
    "symbol_mapping = {\n",
    "    \"Apple\": \"AAPL\", \"Microsoft\": \"MSFT\", \"Amazon\": \"AMZN\", \"Tesla\": \"TSLA\",\n",
    "    \"Pfizer\": \"PFE\", \"JPMorgan\": \"JPM\", \"Alphabet\": \"GOOGL\", \"Meta\": \"META\",\n",
    "    \"Johnson & Johnson\": \"JNJ\", \"Goldman Sachs\": \"GS\", \"ExxonMobil\": \"XOM\",\n",
    "    \"Shell\": \"SHEL\", \"Walmart\": \"WMT\", \"Coca-Cola\": \"KO\", \"Netflix\": \"NFLX\"\n",
    "    # Add more as needed\n",
    "}\n",
    "\n",
    "def get_symbol(company):\n",
    "    return symbol_mapping.get(company)\n"
   ]
  },
  {
   "cell_type": "code",
   "execution_count": 12,
   "id": "4bf21892-dcf5-4efa-94ce-8a5f70a706b2",
   "metadata": {},
   "outputs": [
    {
     "name": "stderr",
     "output_type": "stream",
     "text": [
      "Device set to use cpu\n"
     ]
    }
   ],
   "source": [
    "\n",
    "vader = SentimentIntensityAnalyzer()\n",
    "\n",
    "finbert = pipeline(\n",
    "    \"text-classification\",\n",
    "    model=\"yiyanghkust/finbert-tone\",\n",
    "    tokenizer=AutoTokenizer.from_pretrained(\"yiyanghkust/finbert-tone\"),\n",
    "    device=-1\n",
    ")\n",
    "\n",
    "def get_vader_score(text):\n",
    "    return vader.polarity_scores(text)['compound']\n",
    "\n",
    "def get_finbert_score(text):\n",
    "    result = finbert(text[:512])[0]\n",
    "    return result['score'] * (1 if result['label'] == 'Positive' else -1)\n"
   ]
  },
  {
   "cell_type": "code",
   "execution_count": 13,
   "id": "07aeb054-0899-4e8b-9426-404b45d8f086",
   "metadata": {},
   "outputs": [],
   "source": [
    "from datetime import datetime, timedelta\n",
    "\n",
    "def fetch_company_news(symbol):\n",
    "    today = datetime.today().strftime('%Y-%m-%d')\n",
    "    week_ago = (datetime.today() - timedelta(days=7)).strftime('%Y-%m-%d')\n",
    "\n",
    "    url = f\"https://finnhub.io/api/v1/company-news?symbol={symbol}&from={week_ago}&to={today}&token={finnhub_api_key}\"\n",
    "    response = requests.get(url)\n",
    "    if response.status_code != 200:\n",
    "        print(f\"Failed to fetch news for {symbol}\")\n",
    "        return []\n",
    "    return response.json()\n"
   ]
  },
  {
   "cell_type": "code",
   "execution_count": 14,
   "id": "3e434b4c-7250-49ea-ae3c-8b05a57cd667",
   "metadata": {},
   "outputs": [],
   "source": [
    "news_data = []\n",
    "\n",
    "for sector, companies in global_sector_mapping.items():\n",
    "    for company in companies:\n",
    "        symbol = get_symbol(company)\n",
    "        if not symbol:\n",
    "            continue\n",
    "        \n",
    "        articles = fetch_company_news(symbol)\n",
    "        for article in articles:\n",
    "            headline = article.get(\"headline\", \"\")\n",
    "            if headline:\n",
    "                news_data.append({\n",
    "                    \"company\": company,\n",
    "                    \"sector\": sector,\n",
    "                    \"symbol\": symbol,\n",
    "                    \"headline\": headline,\n",
    "                    \"vader_score\": get_vader_score(headline),\n",
    "                    \"finbert_score\": get_finbert_score(headline),\n",
    "                    \"datetime\": article.get(\"datetime\")\n",
    "                })\n"
   ]
  },
  {
   "cell_type": "code",
   "execution_count": 15,
   "id": "bdae18d8-4cc4-4978-8035-620d17bc5f92",
   "metadata": {},
   "outputs": [
    {
     "name": "stdout",
     "output_type": "stream",
     "text": [
      "Saved to finnhub_company_news_sentiment.csv\n"
     ]
    },
    {
     "data": {
      "text/html": [
       "<div>\n",
       "<style scoped>\n",
       "    .dataframe tbody tr th:only-of-type {\n",
       "        vertical-align: middle;\n",
       "    }\n",
       "\n",
       "    .dataframe tbody tr th {\n",
       "        vertical-align: top;\n",
       "    }\n",
       "\n",
       "    .dataframe thead th {\n",
       "        text-align: right;\n",
       "    }\n",
       "</style>\n",
       "<table border=\"1\" class=\"dataframe\">\n",
       "  <thead>\n",
       "    <tr style=\"text-align: right;\">\n",
       "      <th></th>\n",
       "      <th>company</th>\n",
       "      <th>sector</th>\n",
       "      <th>symbol</th>\n",
       "      <th>headline</th>\n",
       "      <th>vader_score</th>\n",
       "      <th>finbert_score</th>\n",
       "      <th>datetime</th>\n",
       "    </tr>\n",
       "  </thead>\n",
       "  <tbody>\n",
       "    <tr>\n",
       "      <th>0</th>\n",
       "      <td>Apple</td>\n",
       "      <td>Technology</td>\n",
       "      <td>AAPL</td>\n",
       "      <td>Impax U.S. Sustainable Economy Fund Q1 2025 Co...</td>\n",
       "      <td>0.0000</td>\n",
       "      <td>-0.999970</td>\n",
       "      <td>1750134720</td>\n",
       "    </tr>\n",
       "    <tr>\n",
       "      <th>1</th>\n",
       "      <td>Apple</td>\n",
       "      <td>Technology</td>\n",
       "      <td>AAPL</td>\n",
       "      <td>Goldman Sachs Recommends Buying Apple, Expects...</td>\n",
       "      <td>0.2263</td>\n",
       "      <td>0.995852</td>\n",
       "      <td>1750134474</td>\n",
       "    </tr>\n",
       "    <tr>\n",
       "      <th>2</th>\n",
       "      <td>Apple</td>\n",
       "      <td>Technology</td>\n",
       "      <td>AAPL</td>\n",
       "      <td>Apple (AAPL) Gets $235 Price Target from Morga...</td>\n",
       "      <td>0.1027</td>\n",
       "      <td>-0.861908</td>\n",
       "      <td>1750116769</td>\n",
       "    </tr>\n",
       "    <tr>\n",
       "      <th>3</th>\n",
       "      <td>Apple</td>\n",
       "      <td>Technology</td>\n",
       "      <td>AAPL</td>\n",
       "      <td>New Buffett-Inspired ETF Holds Berkshire and A...</td>\n",
       "      <td>0.0000</td>\n",
       "      <td>-0.999601</td>\n",
       "      <td>1750112280</td>\n",
       "    </tr>\n",
       "    <tr>\n",
       "      <th>4</th>\n",
       "      <td>Apple</td>\n",
       "      <td>Technology</td>\n",
       "      <td>AAPL</td>\n",
       "      <td>Tracking Cliff Asness' AQR Capital Management ...</td>\n",
       "      <td>0.0000</td>\n",
       "      <td>-0.998702</td>\n",
       "      <td>1750108183</td>\n",
       "    </tr>\n",
       "  </tbody>\n",
       "</table>\n",
       "</div>"
      ],
      "text/plain": [
       "  company      sector symbol  \\\n",
       "0   Apple  Technology   AAPL   \n",
       "1   Apple  Technology   AAPL   \n",
       "2   Apple  Technology   AAPL   \n",
       "3   Apple  Technology   AAPL   \n",
       "4   Apple  Technology   AAPL   \n",
       "\n",
       "                                            headline  vader_score  \\\n",
       "0  Impax U.S. Sustainable Economy Fund Q1 2025 Co...       0.0000   \n",
       "1  Goldman Sachs Recommends Buying Apple, Expects...       0.2263   \n",
       "2  Apple (AAPL) Gets $235 Price Target from Morga...       0.1027   \n",
       "3  New Buffett-Inspired ETF Holds Berkshire and A...       0.0000   \n",
       "4  Tracking Cliff Asness' AQR Capital Management ...       0.0000   \n",
       "\n",
       "   finbert_score    datetime  \n",
       "0      -0.999970  1750134720  \n",
       "1       0.995852  1750134474  \n",
       "2      -0.861908  1750116769  \n",
       "3      -0.999601  1750112280  \n",
       "4      -0.998702  1750108183  "
      ]
     },
     "execution_count": 15,
     "metadata": {},
     "output_type": "execute_result"
    }
   ],
   "source": [
    "df = pd.DataFrame(news_data)\n",
    "df.to_csv(\"finnhub_company_news_sentiment.csv\", index=False)\n",
    "print(\"Saved to finnhub_company_news_sentiment.csv\")\n",
    "df.head()\n"
   ]
  },
  {
   "cell_type": "code",
   "execution_count": 16,
   "id": "df7ea9c1-7f4e-4b74-ad85-5bf84de7da34",
   "metadata": {},
   "outputs": [
    {
     "name": "stdout",
     "output_type": "stream",
     "text": [
      "\n",
      "Average Sentiment Scores by Sector (sorted):\n",
      "                        vader_score  finbert_score\n",
      "sector                                            \n",
      "Energy                     0.071269      -0.303653\n",
      "Healthcare                 0.133605      -0.343090\n",
      "Technology                 0.090432      -0.452394\n",
      "Consumer Discretionary     0.085194      -0.494001\n",
      "Financials                 0.037813      -0.500181\n",
      "Consumer Staples           0.086438      -0.543182\n",
      "Communication Services     0.073658      -0.564581\n"
     ]
    }
   ],
   "source": [
    "sector_sentiment = df.groupby(\"sector\")[[\"vader_score\", \"finbert_score\"]].mean().sort_values(\"finbert_score\", ascending=False)\n",
    "\n",
    "print(\"\\nAverage Sentiment Scores by Sector (sorted):\")\n",
    "print(sector_sentiment)\n",
    "\n",
    "sector_sentiment.to_csv(\"sector_sentiment_summary.csv\")\n"
   ]
  },
  {
   "cell_type": "code",
   "execution_count": null,
   "id": "ddaaea33-89c9-48ef-b7e9-619bbbaf1940",
   "metadata": {},
   "outputs": [],
   "source": []
  }
 ],
 "metadata": {
  "kernelspec": {
   "display_name": "Python 3 (ipykernel)",
   "language": "python",
   "name": "python3"
  },
  "language_info": {
   "codemirror_mode": {
    "name": "ipython",
    "version": 3
   },
   "file_extension": ".py",
   "mimetype": "text/x-python",
   "name": "python",
   "nbconvert_exporter": "python",
   "pygments_lexer": "ipython3",
   "version": "3.10.16"
  }
 },
 "nbformat": 4,
 "nbformat_minor": 5
}
