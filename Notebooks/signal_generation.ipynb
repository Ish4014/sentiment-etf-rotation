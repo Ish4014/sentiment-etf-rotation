{
 "cells": [
  {
   "cell_type": "code",
   "execution_count": 1,
   "id": "2bdca4f4-1f14-47f2-9e43-761133b0c14e",
   "metadata": {},
   "outputs": [
    {
     "data": {
      "text/html": [
       "<div>\n",
       "<style scoped>\n",
       "    .dataframe tbody tr th:only-of-type {\n",
       "        vertical-align: middle;\n",
       "    }\n",
       "\n",
       "    .dataframe tbody tr th {\n",
       "        vertical-align: top;\n",
       "    }\n",
       "\n",
       "    .dataframe thead th {\n",
       "        text-align: right;\n",
       "    }\n",
       "</style>\n",
       "<table border=\"1\" class=\"dataframe\">\n",
       "  <thead>\n",
       "    <tr style=\"text-align: right;\">\n",
       "      <th></th>\n",
       "      <th>sector</th>\n",
       "      <th>vader_score</th>\n",
       "      <th>finbert_score</th>\n",
       "    </tr>\n",
       "  </thead>\n",
       "  <tbody>\n",
       "    <tr>\n",
       "      <th>0</th>\n",
       "      <td>Energy</td>\n",
       "      <td>0.071269</td>\n",
       "      <td>-0.303653</td>\n",
       "    </tr>\n",
       "    <tr>\n",
       "      <th>1</th>\n",
       "      <td>Healthcare</td>\n",
       "      <td>0.133605</td>\n",
       "      <td>-0.343090</td>\n",
       "    </tr>\n",
       "    <tr>\n",
       "      <th>2</th>\n",
       "      <td>Technology</td>\n",
       "      <td>0.090432</td>\n",
       "      <td>-0.452394</td>\n",
       "    </tr>\n",
       "    <tr>\n",
       "      <th>3</th>\n",
       "      <td>Consumer Discretionary</td>\n",
       "      <td>0.085194</td>\n",
       "      <td>-0.494001</td>\n",
       "    </tr>\n",
       "    <tr>\n",
       "      <th>4</th>\n",
       "      <td>Financials</td>\n",
       "      <td>0.037813</td>\n",
       "      <td>-0.500181</td>\n",
       "    </tr>\n",
       "  </tbody>\n",
       "</table>\n",
       "</div>"
      ],
      "text/plain": [
       "                   sector  vader_score  finbert_score\n",
       "0                  Energy     0.071269      -0.303653\n",
       "1              Healthcare     0.133605      -0.343090\n",
       "2              Technology     0.090432      -0.452394\n",
       "3  Consumer Discretionary     0.085194      -0.494001\n",
       "4              Financials     0.037813      -0.500181"
      ]
     },
     "execution_count": 1,
     "metadata": {},
     "output_type": "execute_result"
    }
   ],
   "source": [
    "import pandas as pd\n",
    "sentiment_df = pd.read_csv(\"sector_sentiment_summary.csv\")\n",
    "sentiment_df.head()\n"
   ]
  },
  {
   "cell_type": "code",
   "execution_count": 2,
   "id": "24b9ac55-5a3a-4d96-99ff-cdd9d72f1ceb",
   "metadata": {},
   "outputs": [
    {
     "data": {
      "text/html": [
       "<div>\n",
       "<style scoped>\n",
       "    .dataframe tbody tr th:only-of-type {\n",
       "        vertical-align: middle;\n",
       "    }\n",
       "\n",
       "    .dataframe tbody tr th {\n",
       "        vertical-align: top;\n",
       "    }\n",
       "\n",
       "    .dataframe thead th {\n",
       "        text-align: right;\n",
       "    }\n",
       "</style>\n",
       "<table border=\"1\" class=\"dataframe\">\n",
       "  <thead>\n",
       "    <tr style=\"text-align: right;\">\n",
       "      <th></th>\n",
       "      <th>sector</th>\n",
       "      <th>vader_score</th>\n",
       "      <th>finbert_score</th>\n",
       "    </tr>\n",
       "  </thead>\n",
       "  <tbody>\n",
       "    <tr>\n",
       "      <th>0</th>\n",
       "      <td>Energy</td>\n",
       "      <td>0.071269</td>\n",
       "      <td>-0.303653</td>\n",
       "    </tr>\n",
       "    <tr>\n",
       "      <th>1</th>\n",
       "      <td>Healthcare</td>\n",
       "      <td>0.133605</td>\n",
       "      <td>-0.343090</td>\n",
       "    </tr>\n",
       "    <tr>\n",
       "      <th>2</th>\n",
       "      <td>Technology</td>\n",
       "      <td>0.090432</td>\n",
       "      <td>-0.452394</td>\n",
       "    </tr>\n",
       "  </tbody>\n",
       "</table>\n",
       "</div>"
      ],
      "text/plain": [
       "       sector  vader_score  finbert_score\n",
       "0      Energy     0.071269      -0.303653\n",
       "1  Healthcare     0.133605      -0.343090\n",
       "2  Technology     0.090432      -0.452394"
      ]
     },
     "execution_count": 2,
     "metadata": {},
     "output_type": "execute_result"
    }
   ],
   "source": [
    "TOP_N = 3  # choose top 3 bullish sectors\n",
    "USE_THRESHOLD = False  # if is true, only select sectors above a score threshold\n",
    "FINBERT_THRESHOLD = 0.15  # optional threshold\n",
    "sorted_sectors = sentiment_df.sort_values(\"finbert_score\", ascending=False)\n",
    "if USE_THRESHOLD:\n",
    "    selected_sectors = sorted_sectors[sorted_sectors[\"finbert_score\"] > FINBERT_THRESHOLD]\n",
    "else:\n",
    "    selected_sectors = sorted_sectors.head(TOP_N)\n",
    "selected_sectors\n"
   ]
  },
  {
   "cell_type": "code",
   "execution_count": 3,
   "id": "33f469fb-46ba-4623-8df5-58fa1fa57397",
   "metadata": {},
   "outputs": [
    {
     "name": "stdout",
     "output_type": "stream",
     "text": [
      "Columns: ['index', 'sector', 'vader_score', 'finbert_score']\n",
      "Sample sectors: ['Energy', 'Healthcare', 'Technology']\n",
      "sector_to_etf is a dict: True\n"
     ]
    },
    {
     "data": {
      "text/html": [
       "<div>\n",
       "<style scoped>\n",
       "    .dataframe tbody tr th:only-of-type {\n",
       "        vertical-align: middle;\n",
       "    }\n",
       "\n",
       "    .dataframe tbody tr th {\n",
       "        vertical-align: top;\n",
       "    }\n",
       "\n",
       "    .dataframe thead th {\n",
       "        text-align: right;\n",
       "    }\n",
       "</style>\n",
       "<table border=\"1\" class=\"dataframe\">\n",
       "  <thead>\n",
       "    <tr style=\"text-align: right;\">\n",
       "      <th></th>\n",
       "      <th>sector</th>\n",
       "      <th>vader_score</th>\n",
       "      <th>finbert_score</th>\n",
       "      <th>etf_ticker</th>\n",
       "    </tr>\n",
       "  </thead>\n",
       "  <tbody>\n",
       "    <tr>\n",
       "      <th>0</th>\n",
       "      <td>Energy</td>\n",
       "      <td>0.071269</td>\n",
       "      <td>-0.303653</td>\n",
       "      <td>XLE</td>\n",
       "    </tr>\n",
       "    <tr>\n",
       "      <th>1</th>\n",
       "      <td>Healthcare</td>\n",
       "      <td>0.133605</td>\n",
       "      <td>-0.343090</td>\n",
       "      <td>XLV</td>\n",
       "    </tr>\n",
       "    <tr>\n",
       "      <th>2</th>\n",
       "      <td>Technology</td>\n",
       "      <td>0.090432</td>\n",
       "      <td>-0.452394</td>\n",
       "      <td>XLK</td>\n",
       "    </tr>\n",
       "  </tbody>\n",
       "</table>\n",
       "</div>"
      ],
      "text/plain": [
       "       sector  vader_score  finbert_score etf_ticker\n",
       "0      Energy     0.071269      -0.303653        XLE\n",
       "1  Healthcare     0.133605      -0.343090        XLV\n",
       "2  Technology     0.090432      -0.452394        XLK"
      ]
     },
     "execution_count": 3,
     "metadata": {},
     "output_type": "execute_result"
    }
   ],
   "source": [
    "# Sorting and filtering top sectors\n",
    "sorted_sectors = sentiment_df.sort_values(\"finbert_score\", ascending=False)\n",
    "if USE_THRESHOLD:\n",
    "    filtered = sorted_sectors[sorted_sectors[\"finbert_score\"] > FINBERT_THRESHOLD]\n",
    "else:\n",
    "    filtered = sorted_sectors.head(TOP_N)\n",
    "# Ensure sector is a column\n",
    "filtered = filtered.reset_index()\n",
    "# If index column holds the sector names, rename it\n",
    "if 'index' in filtered.columns and 'sector' not in filtered.columns:\n",
    "    filtered = filtered.rename(columns={\"index\": \"sector\"})\n",
    "# Confirm sector column exists\n",
    "print(\"Columns:\", filtered.columns.tolist())\n",
    "print(\"Sample sectors:\", filtered[\"sector\"].tolist())\n",
    "# defining mapping dictionary\n",
    "sector_to_etf = dict({\n",
    "    \"Technology\": \"XLK\",\n",
    "    \"Financials\": \"XLF\",\n",
    "    \"Healthcare\": \"XLV\",\n",
    "    \"Consumer Discretionary\": \"XLY\",\n",
    "    \"Consumer Staples\": \"XLP\",\n",
    "    \"Energy\": \"XLE\",\n",
    "    \"Industrials\": \"XLI\",\n",
    "    \"Utilities\": \"XLU\",\n",
    "    \"Materials\": \"XLB\",\n",
    "    \"Real Estate\": \"XLRE\",\n",
    "    \"Communication Services\": \"XLC\",\n",
    "    \"Others / Small Cap\": \"IWM\"\n",
    "})\n",
    "\n",
    "# Confirmming it is a dict\n",
    "print(\"sector_to_etf is a dict:\", isinstance(sector_to_etf, dict))\n",
    "# Map sector to ETF\n",
    "filtered[\"etf_ticker\"] = filtered[\"sector\"].map(sector_to_etf)\n",
    "# Dropping rows without ETF matches\n",
    "selected_sectors = filtered.dropna(subset=[\"etf_ticker\"])\n",
    "selected_sectors = selected_sectors[[\"sector\", \"vader_score\", \"finbert_score\", \"etf_ticker\"]]\n",
    "selected_sectors\n"
   ]
  },
  {
   "cell_type": "code",
   "execution_count": 4,
   "id": "cd2fb87d-7113-453e-a58e-6ba709d2fa33",
   "metadata": {},
   "outputs": [],
   "source": [
    "from datetime import datetime\n",
    "# adding current date\n",
    "sentiment_df[\"date\"] = pd.to_datetime(datetime.today().date())\n",
    "# group by sector and date\n",
    "daily_sector_sentiment = sentiment_df.groupby(['sector', 'date'])['finbert_score'].mean().reset_index()\n",
    "#pivot to wide format for visualization\n",
    "sentiment_pivot = daily_sector_sentiment.pivot(index='date', columns='sector', values='finbert_score')"
   ]
  },
  {
   "cell_type": "code",
   "execution_count": 5,
   "id": "dffcc4a6-1bee-4455-b466-4d6483873fa8",
   "metadata": {},
   "outputs": [
    {
     "name": "stdout",
     "output_type": "stream",
     "text": [
      "Saved selected sector signals to weekly_signals.csv \n"
     ]
    }
   ],
   "source": [
    "selected_sectors.to_csv(\"weekly_signals.csv\", index=False)\n",
    "print(\"Saved selected sector signals to weekly_signals.csv \")"
   ]
  },
  {
   "cell_type": "code",
   "execution_count": 6,
   "id": "98b180c7-3d86-4c8a-8cf4-ae2d4aa77664",
   "metadata": {},
   "outputs": [
    {
     "name": "stderr",
     "output_type": "stream",
     "text": [
      "C:\\Users\\ishwa\\AppData\\Local\\Temp\\ipykernel_8496\\2818774126.py:4: FutureWarning: \n",
      "\n",
      "Passing `palette` without assigning `hue` is deprecated and will be removed in v0.14.0. Assign the `y` variable to `hue` and set `legend=False` for the same effect.\n",
      "\n",
      "  sns.barplot(\n"
     ]
    },
    {
     "data": {
      "image/png": "[encoded data removed]",
      "text/plain": [
       "<Figure size 1000x600 with 1 Axes>"
      ]
     },
     "metadata": {},
     "output_type": "display_data"
    }
   ],
   "source": [
    "import seaborn as sns\n",
    "import matplotlib.pyplot as plt\n",
    "plt.figure(figsize=(10, 6))\n",
    "sns.barplot(\n",
    "    x=\"finbert_score\",\n",
    "    y=\"sector\",\n",
    "    data=selected_sectors.sort_values(\"finbert_score\"),\n",
    "    palette=\"viridis\"\n",
    ")\n",
    "plt.title(\"Selected Bullish Sectors based on FinBERT Score\")\n",
    "plt.xlabel(\"FinBERT Sentiment Score\")\n",
    "plt.ylabel(\"Sector\")\n",
    "plt.grid(True)\n",
    "plt.tight_layout()\n",
    "plt.show()\n"
   ]
  },
  {
   "cell_type": "code",
   "execution_count": null,
   "id": "89f47451-3982-474b-8c3e-558878d94141",
   "metadata": {},
   "outputs": [],
   "source": []
  }
 ],
 "metadata": {
  "kernelspec": {
   "display_name": "Python 3 (ipykernel)",
   "language": "python",
   "name": "python3"
  },
  "language_info": {
   "codemirror_mode": {
    "name": "ipython",
    "version": 3
   },
   "file_extension": ".py",
   "mimetype": "text/x-python",
   "name": "python",
   "nbconvert_exporter": "python",
   "pygments_lexer": "ipython3",
   "version": "3.10.16"
  }
 },
 "nbformat": 4,
 "nbformat_minor": 5
}
